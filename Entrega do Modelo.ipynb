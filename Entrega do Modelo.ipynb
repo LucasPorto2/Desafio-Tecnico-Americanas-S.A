{
 "cells": [
  {
   "cell_type": "markdown",
   "id": "90a7c3b7",
   "metadata": {},
   "source": [
    "# <center> Entrega do Modelo"
   ]
  },
  {
   "cell_type": "markdown",
   "id": "efc0598f",
   "metadata": {},
   "source": [
    "<p style='text-align: justify;'> O objetivo desta seção é apresentar a função final_model que permite obter previsões com base em um modelo XGB treinado em todas as 466 amostras do dataset. Além disso também é apresentado um guia de como usar a função final_model."
   ]
  },
  {
   "cell_type": "code",
   "execution_count": 1,
   "id": "d39f9f37",
   "metadata": {},
   "outputs": [],
   "source": [
    "# Algumas importações básicas\n",
    "\n",
    "import pandas as pd\n",
    "import numpy as np\n",
    "from xgboost import XGBClassifier\n",
    "from sklearn.preprocessing import StandardScaler"
   ]
  },
  {
   "cell_type": "code",
   "execution_count": 2,
   "id": "99138a37",
   "metadata": {},
   "outputs": [],
   "source": [
    "def final_model(X):\n",
    "    \"\"\"Utiliza um modelo XGB treinado no dataset de 466 amostras inteiro para fazer previsões na matriz de features X. Antes de\n",
    "    prever é obtida a matriz X_transformada que é resultado da aplicação do transformador StandardScaler em X. Após isso o\n",
    "    modelo realiza previsões em X_transformada. A matriz X deve ser bidimensional e possuir 16 colunas\"\"\"\n",
    "    # Lendo o arquivo\n",
    "    df = pd.read_parquet('dataset_cdjr.parquet.gzip' , engine = 'pyarrow')\n",
    "    features = np.array(df.drop(['target'] , axis = 1))\n",
    "    target = np.array(df['target'])\n",
    "    # Feature Scaling\n",
    "    SS = StandardScaler()\n",
    "    SS.fit(features)\n",
    "    features_transformada = SS.transform(features)\n",
    "    X_transformada = SS.transform(X)\n",
    "    # Instanciando e treinando o modelo\n",
    "    model = XGBClassifier(n_estimators = 500 , learning_rate = 0.5 , max_depth = 6 , use_label_encoder = False)\n",
    "    model.fit(features_transformada, target)\n",
    "    # Fazendo previsões\n",
    "    predictions = model.predict(X_transformada)\n",
    "    return predictions"
   ]
  },
  {
   "cell_type": "markdown",
   "id": "bed9c36e",
   "metadata": {},
   "source": [
    "## <center> Exemplo de como usar a função final_model"
   ]
  },
  {
   "cell_type": "markdown",
   "id": "565a785a",
   "metadata": {},
   "source": [
    "### Realizando previsões para todas as 466 amostras do dataset"
   ]
  },
  {
   "cell_type": "code",
   "execution_count": 3,
   "id": "71c0a52a",
   "metadata": {},
   "outputs": [],
   "source": [
    "# Lendo o conjunto de dados e transformando o mesmo em um dataframe\n",
    "\n",
    "df = pd.read_parquet('dataset_cdjr.parquet.gzip' , engine = 'pyarrow')"
   ]
  },
  {
   "cell_type": "code",
   "execution_count": 4,
   "id": "47508c99",
   "metadata": {},
   "outputs": [],
   "source": [
    "# Obtendo a Matriz de features X\n",
    "\n",
    "X = np.array(df.drop(['target'] , axis = 1))"
   ]
  },
  {
   "cell_type": "code",
   "execution_count": 5,
   "id": "4724862a",
   "metadata": {},
   "outputs": [
    {
     "data": {
      "text/plain": [
       "(466, 16)"
      ]
     },
     "execution_count": 5,
     "metadata": {},
     "output_type": "execute_result"
    }
   ],
   "source": [
    "X.shape"
   ]
  },
  {
   "cell_type": "code",
   "execution_count": 6,
   "id": "a2d72c38",
   "metadata": {},
   "outputs": [],
   "source": [
    "# Obtendo Target\n",
    "\n",
    "target = np.array(df['target'])"
   ]
  },
  {
   "cell_type": "code",
   "execution_count": 7,
   "id": "e774fabe",
   "metadata": {},
   "outputs": [
    {
     "name": "stdout",
     "output_type": "stream",
     "text": [
      "[07:45:46] WARNING: ..\\src\\learner.cc:1115: Starting in XGBoost 1.3.0, the default evaluation metric used with the objective 'binary:logistic' was changed from 'error' to 'logloss'. Explicitly set eval_metric if you'd like to restore the old behavior.\n"
     ]
    }
   ],
   "source": [
    "# Usando a função final_model para fazer previsões\n",
    "\n",
    "predictions = final_model(X)"
   ]
  },
  {
   "cell_type": "code",
   "execution_count": 8,
   "id": "6e4e8878",
   "metadata": {},
   "outputs": [
    {
     "data": {
      "text/plain": [
       "466"
      ]
     },
     "execution_count": 8,
     "metadata": {},
     "output_type": "execute_result"
    }
   ],
   "source": [
    "# Observando o número de previsões corretas\n",
    "\n",
    "sum(predictions == target)"
   ]
  },
  {
   "cell_type": "markdown",
   "id": "19674496",
   "metadata": {},
   "source": [
    "Veja que nossa função final_model acerta o target das 466 amostras !"
   ]
  },
  {
   "cell_type": "markdown",
   "id": "f43bc0b9",
   "metadata": {},
   "source": [
    "### Realizando previsões para dados novos"
   ]
  },
  {
   "cell_type": "markdown",
   "id": "22b898e6",
   "metadata": {},
   "source": [
    "<p style='text-align: justify;'>Para realizar previsões em dados novos basta obter a matriz X de features correspondente a esses dados e chamar a função final_model que recebe como único argumento a matriz X. O interessante da função final_model é que ela utiliza um modelo já treinado para fazer previsões. Sendo assim basta ao usuário somente entrar com as amostras sobre as quais ele deseja obter uma previsão. Lembre-se que X deve possuir 2 dimensões e 16 colunas."
   ]
  }
 ],
 "metadata": {
  "kernelspec": {
   "display_name": "Python 3 (ipykernel)",
   "language": "python",
   "name": "python3"
  },
  "language_info": {
   "codemirror_mode": {
    "name": "ipython",
    "version": 3
   },
   "file_extension": ".py",
   "mimetype": "text/x-python",
   "name": "python",
   "nbconvert_exporter": "python",
   "pygments_lexer": "ipython3",
   "version": "3.9.7"
  }
 },
 "nbformat": 4,
 "nbformat_minor": 5
}
